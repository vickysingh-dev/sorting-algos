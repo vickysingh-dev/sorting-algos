{
 "cells": [
  {
   "attachments": {},
   "cell_type": "markdown",
   "metadata": {},
   "source": [
    "Merge Sort : Works by dividing an array into smaller subarrays, sorting each sub array, and then merging the sorted sub arrays back to form the final sorted array."
   ]
  },
  {
   "cell_type": "code",
   "execution_count": 1,
   "metadata": {},
   "outputs": [],
   "source": [
    "array = [38, 27, 43, 3, 9, 82, 10]"
   ]
  },
  {
   "cell_type": "code",
   "execution_count": 14,
   "metadata": {},
   "outputs": [],
   "source": [
    "def mergeSort(array):\n",
    "    count = 0\n",
    "\n",
    "    if (len(array) > 1):\n",
    "        mid = len(array) // 2\n",
    "        L = array[:mid]\n",
    "        R = array[mid:]\n",
    "\n",
    "        mergeSort(L)\n",
    "        mergeSort(R)\n",
    "\n",
    "        i = j = k = 0\n",
    "\n",
    "        while i < len(L) and j < len(R):\n",
    "            if L[i] < R[j]:\n",
    "                array[k] = L[i]\n",
    "                i += 1\n",
    "            else:\n",
    "                array[k] = R[j]\n",
    "                j += 1\n",
    "            k += 1\n",
    "            count += 1\n",
    "\n",
    "        while i < len(L):\n",
    "            array[k] = L[i]\n",
    "            i += 1\n",
    "            k += 1\n",
    "            count += 1\n",
    "        while j < len(R):\n",
    "            array[k] = R[j]\n",
    "            j += 1\n",
    "            k += 1\n",
    "            count += 1\n",
    "    return array"
   ]
  },
  {
   "cell_type": "code",
   "execution_count": 6,
   "metadata": {},
   "outputs": [
    {
     "name": "stdout",
     "output_type": "stream",
     "text": [
      "[3, 9, 10, 27, 38, 43, 82]\n"
     ]
    }
   ],
   "source": [
    "print(mergeSort(array))"
   ]
  },
  {
   "cell_type": "code",
   "execution_count": 8,
   "metadata": {},
   "outputs": [],
   "source": [
    "array = [30, 66, 74, 99, 46, 40, 40, 17, 91, 36, 53, 45, 39, 62, 67, 25, 87, 13, 3, 93, 80, 80, 98, 78, 21, 10, 15, 48, 91, 56, 34, 90, 84, 90, 32, 9, 89, 80, 87, 33, 18, 4, 85, 4, 43, 70, 64, 36, 15, 13, 98, 85, 98, 98, 64, 20, 41, 79, 65, 19, 84, 49, 79, 80, 1, 65, 3, 8, 60, 27, 15, 51, 4, 59, 98, 59, 24, 27, 1, 86, 65, 28, 34, 36, 48, 85, 43, 69, 94, 11, 25, 53, 18, 7, 90, 48, 88, 70, 47, 23]"
   ]
  },
  {
   "cell_type": "code",
   "execution_count": 13,
   "metadata": {},
   "outputs": [
    {
     "name": "stdout",
     "output_type": "stream",
     "text": [
      "([1, 1, 3, 3, 4, 4, 4, 7, 8, 9, 10, 11, 13, 13, 15, 15, 15, 17, 18, 18, 19, 20, 21, 23, 24, 25, 25, 27, 27, 28, 30, 32, 33, 34, 34, 36, 36, 36, 39, 40, 40, 41, 43, 43, 45, 46, 47, 48, 48, 48, 49, 51, 53, 53, 56, 59, 59, 60, 62, 64, 64, 65, 65, 65, 66, 67, 69, 70, 70, 74, 78, 79, 79, 80, 80, 80, 80, 84, 84, 85, 85, 85, 86, 87, 87, 88, 89, 90, 90, 90, 91, 91, 93, 94, 98, 98, 98, 98, 98, 99], 100)\n"
     ]
    }
   ],
   "source": [
    "print(mergeSort(array))"
   ]
  },
  {
   "cell_type": "code",
   "execution_count": null,
   "metadata": {},
   "outputs": [],
   "source": []
  }
 ],
 "metadata": {
  "kernelspec": {
   "display_name": "base",
   "language": "python",
   "name": "python3"
  },
  "language_info": {
   "codemirror_mode": {
    "name": "ipython",
    "version": 3
   },
   "file_extension": ".py",
   "mimetype": "text/x-python",
   "name": "python",
   "nbconvert_exporter": "python",
   "pygments_lexer": "ipython3",
   "version": "3.9.13"
  },
  "orig_nbformat": 4,
  "vscode": {
   "interpreter": {
    "hash": "1b29552fe58cdb57bc1a23963b0e38a3f045fb57e68ab4c9f1c38139655dd869"
   }
  }
 },
 "nbformat": 4,
 "nbformat_minor": 2
}
