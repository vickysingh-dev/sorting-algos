{
 "cells": [
  {
   "cell_type": "code",
   "execution_count": 3,
   "metadata": {},
   "outputs": [],
   "source": [
    "# selection sort: works by selecting the smallest element from the unsorted part of the list and place it in the beginning of the list."
   ]
  },
  {
   "cell_type": "code",
   "execution_count": 4,
   "metadata": {},
   "outputs": [],
   "source": [
    "array = [7, 8, 1, 5, 4, 2, 0]"
   ]
  },
  {
   "cell_type": "code",
   "execution_count": 9,
   "metadata": {},
   "outputs": [],
   "source": [
    "def selectionSort(array, reverse = False):\n",
    "    for i in range(0, len(array)):\n",
    "        small = i\n",
    "        for j in range(i+1, len(array)):\n",
    "            if not reverse:\n",
    "                if array[small] > array[j]:\n",
    "                    small = j\n",
    "            else:\n",
    "                if array[small] < array[j]:\n",
    "                    small = j\n",
    "        array[small], array[i] = array[i], array[small]\n",
    "    return array\n",
    "        "
   ]
  },
  {
   "cell_type": "code",
   "execution_count": 11,
   "metadata": {},
   "outputs": [
    {
     "name": "stdout",
     "output_type": "stream",
     "text": [
      "[0, 1, 2, 4, 5, 7, 8]\n"
     ]
    }
   ],
   "source": [
    "print(selectionSort(array))"
   ]
  },
  {
   "cell_type": "code",
   "execution_count": 12,
   "metadata": {},
   "outputs": [
    {
     "name": "stdout",
     "output_type": "stream",
     "text": [
      "[8, 7, 5, 4, 2, 1, 0]\n"
     ]
    }
   ],
   "source": [
    "print(selectionSort(array, reverse=True))"
   ]
  },
  {
   "cell_type": "code",
   "execution_count": null,
   "metadata": {},
   "outputs": [],
   "source": []
  }
 ],
 "metadata": {
  "kernelspec": {
   "display_name": "base",
   "language": "python",
   "name": "python3"
  },
  "language_info": {
   "codemirror_mode": {
    "name": "ipython",
    "version": 3
   },
   "file_extension": ".py",
   "mimetype": "text/x-python",
   "name": "python",
   "nbconvert_exporter": "python",
   "pygments_lexer": "ipython3",
   "version": "3.9.13"
  },
  "orig_nbformat": 4,
  "vscode": {
   "interpreter": {
    "hash": "1b29552fe58cdb57bc1a23963b0e38a3f045fb57e68ab4c9f1c38139655dd869"
   }
  }
 },
 "nbformat": 4,
 "nbformat_minor": 2
}
