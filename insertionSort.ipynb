{
 "cells": [
  {
   "cell_type": "code",
   "execution_count": 2,
   "metadata": {},
   "outputs": [],
   "source": [
    "# insertion sort : the array is split into sorted and unsorted part. Values from the unsorted part are picked and placed in correct position in sorted part."
   ]
  },
  {
   "cell_type": "code",
   "execution_count": 3,
   "metadata": {},
   "outputs": [],
   "source": [
    "array = [7, 8, 1, 5, 4, 2, 0]"
   ]
  },
  {
   "cell_type": "code",
   "execution_count": 12,
   "metadata": {},
   "outputs": [],
   "source": [
    "def insertionSort(array, reverse=False):\n",
    "    for i in range(1, len(array)):\n",
    "        key = array[i]\n",
    "        j = i-1\n",
    "        if not reverse:\n",
    "            while j >= 0 and key < array[j]:\n",
    "                array[j+1] = array[j]\n",
    "                j -= 1\n",
    "        else:\n",
    "            while j >= 0 and key > array[j]:\n",
    "                array[j+1] = array[j]\n",
    "                j -= 1\n",
    "        array[j+1] = key\n",
    "    return array"
   ]
  },
  {
   "cell_type": "code",
   "execution_count": 9,
   "metadata": {},
   "outputs": [
    {
     "name": "stdout",
     "output_type": "stream",
     "text": [
      "[0, 1, 2, 4, 5, 7, 8]\n"
     ]
    }
   ],
   "source": [
    "print(insertionSort(array))"
   ]
  },
  {
   "cell_type": "code",
   "execution_count": 13,
   "metadata": {},
   "outputs": [
    {
     "name": "stdout",
     "output_type": "stream",
     "text": [
      "[8, 7, 5, 4, 2, 1, 0]\n"
     ]
    }
   ],
   "source": [
    "print(insertionSort(array, reverse=True))"
   ]
  },
  {
   "attachments": {},
   "cell_type": "markdown",
   "metadata": {},
   "source": [
    "Time Complexity : O(n**2)\n",
    "Auxiliary Space : O(1)"
   ]
  }
 ],
 "metadata": {
  "kernelspec": {
   "display_name": "base",
   "language": "python",
   "name": "python3"
  },
  "language_info": {
   "codemirror_mode": {
    "name": "ipython",
    "version": 3
   },
   "file_extension": ".py",
   "mimetype": "text/x-python",
   "name": "python",
   "nbconvert_exporter": "python",
   "pygments_lexer": "ipython3",
   "version": "3.9.13 (main, Aug 25 2022, 23:51:50) [MSC v.1916 64 bit (AMD64)]"
  },
  "orig_nbformat": 4,
  "vscode": {
   "interpreter": {
    "hash": "1b29552fe58cdb57bc1a23963b0e38a3f045fb57e68ab4c9f1c38139655dd869"
   }
  }
 },
 "nbformat": 4,
 "nbformat_minor": 2
}
