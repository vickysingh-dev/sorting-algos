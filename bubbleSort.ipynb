{
 "cells": [
  {
   "attachments": {},
   "cell_type": "markdown",
   "metadata": {},
   "source": [
    "Bubble Sort: works by repeatedly swaping the adjacent elements if they are not sorted."
   ]
  },
  {
   "cell_type": "code",
   "execution_count": 1,
   "metadata": {},
   "outputs": [],
   "source": [
    "array = [7, 8, 1, 5, 4, 2, 0]"
   ]
  },
  {
   "cell_type": "code",
   "execution_count": 5,
   "metadata": {},
   "outputs": [],
   "source": [
    "def bubbleSort(array, reverse=False):\n",
    "    for i in range(len(array)):\n",
    "        for j in range(0, len(array) - i - 1):\n",
    "            if not reverse:\n",
    "                if array[j] > array[j+1]:\n",
    "                    array[j], array[j+1] = array[j+1], array[j]\n",
    "            else:\n",
    "                if array[j] < array[j+1]:\n",
    "                    array[j], array[j+1] = array[j+1], array[j]\n",
    "    return array"
   ]
  },
  {
   "cell_type": "code",
   "execution_count": 3,
   "metadata": {},
   "outputs": [
    {
     "name": "stdout",
     "output_type": "stream",
     "text": [
      "[0, 1, 2, 4, 5, 7, 8]\n"
     ]
    }
   ],
   "source": [
    "print(bubbleSort(array))"
   ]
  },
  {
   "cell_type": "code",
   "execution_count": 6,
   "metadata": {},
   "outputs": [
    {
     "name": "stdout",
     "output_type": "stream",
     "text": [
      "[8, 7, 5, 4, 2, 1, 0]\n"
     ]
    }
   ],
   "source": [
    "print(bubbleSort(array, reverse=True))"
   ]
  },
  {
   "attachments": {},
   "cell_type": "markdown",
   "metadata": {},
   "source": [
    "Time Complexity : O(n**2)\n",
    "Auxiliary Space : O(1)"
   ]
  },
  {
   "cell_type": "code",
   "execution_count": 11,
   "metadata": {},
   "outputs": [],
   "source": [
    "# optimized way for bubble sort\n",
    "\n",
    "def opt_bubbleSort(array, reverse = False):\n",
    "    for i in range(len(array)):\n",
    "        swapped = False\n",
    "        for j in range(0, len(array) - i - 1):\n",
    "            if not reverse:\n",
    "                if array[j] > array[j+1]:\n",
    "                    array[j], array[j+1] = array[j+1], array[j]\n",
    "                    swapped = True\n",
    "            else:\n",
    "                if array[j+1] > array[j]:\n",
    "                    array[j], array[j+1] = array[j+1], array[j]\n",
    "                    swapped = True\n",
    "        if not swapped:\n",
    "            break\n",
    "    return array"
   ]
  },
  {
   "cell_type": "code",
   "execution_count": 12,
   "metadata": {},
   "outputs": [
    {
     "name": "stdout",
     "output_type": "stream",
     "text": [
      "[0, 1, 2, 4, 5, 7, 8]\n"
     ]
    }
   ],
   "source": [
    "print(opt_bubbleSort(array))"
   ]
  },
  {
   "cell_type": "code",
   "execution_count": 14,
   "metadata": {},
   "outputs": [
    {
     "name": "stdout",
     "output_type": "stream",
     "text": [
      "[8, 7, 5, 4, 2, 1, 0]\n"
     ]
    }
   ],
   "source": [
    "print(opt_bubbleSort(array, reverse=True))"
   ]
  },
  {
   "cell_type": "code",
   "execution_count": null,
   "metadata": {},
   "outputs": [],
   "source": []
  }
 ],
 "metadata": {
  "kernelspec": {
   "display_name": "base",
   "language": "python",
   "name": "python3"
  },
  "language_info": {
   "codemirror_mode": {
    "name": "ipython",
    "version": 3
   },
   "file_extension": ".py",
   "mimetype": "text/x-python",
   "name": "python",
   "nbconvert_exporter": "python",
   "pygments_lexer": "ipython3",
   "version": "3.9.13"
  },
  "orig_nbformat": 4,
  "vscode": {
   "interpreter": {
    "hash": "1b29552fe58cdb57bc1a23963b0e38a3f045fb57e68ab4c9f1c38139655dd869"
   }
  }
 },
 "nbformat": 4,
 "nbformat_minor": 2
}
