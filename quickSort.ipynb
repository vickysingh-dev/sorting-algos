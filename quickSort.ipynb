{
 "cells": [
  {
   "attachments": {},
   "cell_type": "markdown",
   "metadata": {},
   "source": [
    "Quick Sort : works by selecting a random index from the list called our pivot. Then we insert the remaining elements around the pivot position, on the basis of their values being greater or lesser than the pivot. This all is done in linear time."
   ]
  },
  {
   "cell_type": "code",
   "execution_count": 1,
   "metadata": {},
   "outputs": [],
   "source": [
    "array = [38, 27, 43, 3, 9, 82, 10]"
   ]
  },
  {
   "cell_type": "code",
   "execution_count": 4,
   "metadata": {},
   "outputs": [],
   "source": [
    "def quickSort(array):\n",
    "\n",
    "    if len(array) <= 1:\n",
    "        return array\n",
    "\n",
    "    else:\n",
    "        pivot = array.pop()\n",
    "\n",
    "        items_greater = []\n",
    "        items_lower = []\n",
    "\n",
    "        for i in array:\n",
    "            if i > pivot:\n",
    "                items_greater.append(i)\n",
    "            else:\n",
    "                items_lower.append(i)\n",
    "\n",
    "        return quickSort(items_lower) + [pivot] + quickSort(items_greater)"
   ]
  },
  {
   "cell_type": "code",
   "execution_count": 5,
   "metadata": {},
   "outputs": [
    {
     "name": "stdout",
     "output_type": "stream",
     "text": [
      "[3, 9, 27, 38, 43, 82]\n"
     ]
    }
   ],
   "source": [
    "print(quickSort(array))"
   ]
  },
  {
   "cell_type": "code",
   "execution_count": 6,
   "metadata": {},
   "outputs": [],
   "source": [
    "# time complexity : O(N logN )\n",
    "# auxiliary space : O(1)"
   ]
  },
  {
   "cell_type": "code",
   "execution_count": null,
   "metadata": {},
   "outputs": [],
   "source": []
  }
 ],
 "metadata": {
  "kernelspec": {
   "display_name": "base",
   "language": "python",
   "name": "python3"
  },
  "language_info": {
   "codemirror_mode": {
    "name": "ipython",
    "version": 3
   },
   "file_extension": ".py",
   "mimetype": "text/x-python",
   "name": "python",
   "nbconvert_exporter": "python",
   "pygments_lexer": "ipython3",
   "version": "3.9.13"
  },
  "orig_nbformat": 4,
  "vscode": {
   "interpreter": {
    "hash": "1b29552fe58cdb57bc1a23963b0e38a3f045fb57e68ab4c9f1c38139655dd869"
   }
  }
 },
 "nbformat": 4,
 "nbformat_minor": 2
}
